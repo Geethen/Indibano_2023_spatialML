{
 "cells": [
  {
   "cell_type": "markdown",
   "id": "71564ef0-5475-49b2-9f5c-69ea0ceb487c",
   "metadata": {},
   "source": [
    "# Machine Learning with the Google Earth Engine Python API"
   ]
  },
  {
   "cell_type": "markdown",
   "id": "870b8b92-a43e-40e5-b206-64ce96589596",
   "metadata": {
    "tags": []
   },
   "source": [
    "### Motivation\n",
    "Using Google Earth Engine (GEE) through the python API (as opposed to the JS API) provides users with greater flexibility and easier access to python, R and Julia functionality if used through project Jupyter (reccommended).\n",
    "\n",
    "In the upcoming notebooks, users will be taken through getting started with GEE Machine Learning (ML) in python for Earth Observation (EO) based ecological applications."
   ]
  },
  {
   "cell_type": "markdown",
   "id": "48c0928b-89a1-4fa7-b15e-7afc4bc1f897",
   "metadata": {},
   "source": [
    "### Pre-requisites\n",
    "\n",
    "* A Google Earth Engine (GEE) Account\n",
    "* A basic grasp of coding concepts (variables, functions, for loops and if statements)."
   ]
  },
  {
   "cell_type": "markdown",
   "id": "cc1e031a-4f90-464d-8209-409e0fdf7fe8",
   "metadata": {},
   "source": [
    "## Part 2: Introduction"
   ]
  },
  {
   "cell_type": "markdown",
   "id": "854279a7-da8f-4f55-9022-ada9425ee0d3",
   "metadata": {},
   "source": [
    "After going through this notebook, you will know:\n",
    "\n",
    "    1. The reccommended tools for using the GEE Python API.\n",
    "    2. How to perform a standard supervised classification in GEE including data preparation, Model training, Model evaluation and Inference.\n",
    "    3. How to perform basic hyperparameter tuning.\n",
    "    4. Compute the area of output classification maps.\n",
    "    5. Download the classified map to disk."
   ]
  },
  {
   "cell_type": "markdown",
   "id": "3d4c54ea-93c1-431e-a5a2-b8bfb01a1751",
   "metadata": {},
   "source": [
    "In these tutorials, we will use:\n",
    "\n",
    "   * Google colab - A freely available cloud hosted jupyter notebook\n",
    "   * geemap - A python package that makes the use of GEE in python easier\n",
    "   * geeml - A python package that makes the extraction of GEE data easier and faster to download directly to your drive."
   ]
  },
  {
   "cell_type": "markdown",
   "id": "bca9dbb0-1716-44cb-9158-3ddc88e4985b",
   "metadata": {},
   "source": [
    "## Install packages"
   ]
  },
  {
   "cell_type": "markdown",
   "id": "d87a8f3b-e522-429b-a156-2706aa800878",
   "metadata": {},
   "source": [
    "Since we are using Google colab we can skip the setup of a virtual environment and proceed by installing additional packages not  available by default in the Google Colab environment. Once complete, restart the runtime.  \n",
    "\n",
    "watermark is a useful package to print out the python version and loaded package versions"
   ]
  },
  {
   "cell_type": "code",
   "execution_count": 12,
   "id": "5b93e291-a7a4-410c-bb1a-33642ede09ff",
   "metadata": {},
   "outputs": [
    {
     "name": "stdout",
     "output_type": "stream",
     "text": [
      "Note: you may need to restart the kernel to use updated packages.\n"
     ]
    },
    {
     "name": "stderr",
     "output_type": "stream",
     "text": [
      "DEPRECATION: pytorch-lightning 1.6.5 has a non-standard dependency specifier torch>=1.8.*. pip 23.3 will enforce this behaviour change. A possible replacement is to upgrade to a newer version of pytorch-lightning or contact the author to suggest that they release a version with a conforming dependency specifiers. Discussion can be found at https://github.com/pypa/pip/issues/12063\n",
      "  WARNING: The script uvicorn.exe is installed in 'C:\\ProgramData\\Anaconda3\\envs\\erthy\\Scripts' which is not on PATH.\n",
      "  Consider adding this directory to PATH or, if you prefer to suppress this warning, use --no-warn-script-location.\n",
      "  WARNING: The script flask.exe is installed in 'C:\\ProgramData\\Anaconda3\\envs\\erthy\\Scripts' which is not on PATH.\n",
      "  Consider adding this directory to PATH or, if you prefer to suppress this warning, use --no-warn-script-location.\n",
      "  WARNING: The script localtileserver.exe is installed in 'C:\\ProgramData\\Anaconda3\\envs\\erthy\\Scripts' which is not on PATH.\n",
      "  Consider adding this directory to PATH or, if you prefer to suppress this warning, use --no-warn-script-location.\n",
      "\n",
      "[notice] A new release of pip is available: 23.2.1 -> 23.3\n",
      "[notice] To update, run: C:\\ProgramData\\Anaconda3\\envs\\erthy\\python.exe -m pip install --upgrade pip\n"
     ]
    }
   ],
   "source": [
    "# Install packages not available in colab\n",
    "%pip install watermark geedim localtileserver -q "
   ]
  },
  {
   "cell_type": "markdown",
   "id": "d9caf81f-82ae-49d3-81d9-df6b106c5b57",
   "metadata": {},
   "source": [
    "## Import packages"
   ]
  },
  {
   "cell_type": "code",
   "execution_count": 1,
   "id": "d077e2fa-97da-4009-a50b-62e32cec8177",
   "metadata": {},
   "outputs": [],
   "source": [
    "# Load watermark package\n",
    "%load_ext watermark"
   ]
  },
  {
   "cell_type": "code",
   "execution_count": 2,
   "id": "7ff11bdb-84ef-4e8c-bcf9-543ce43a5d3e",
   "metadata": {},
   "outputs": [],
   "source": [
    "# Import and initialize Google Earth Engine. When running this cell in colab, you will always be prompted to authenticate first.\n",
    "import ee\n",
    "try:\n",
    "    ee.Initialize()\n",
    "except:\n",
    "    ee.Authenticate()\n",
    "    ee.Initialize()\n",
    "\n",
    "# Import geemap - a package that includes lots of utility fucntions to make working with GEE in python easier     \n",
    "import geemap\n",
    "# Used to extract data from GEE as csv\n",
    "from geeml.extract import extractor\n",
    "\n",
    "import os\n",
    "# Matplotlib is the de facto visualisation package in python\n",
    "import matplotlib.pyplot as plt"
   ]
  },
  {
   "cell_type": "code",
   "execution_count": 3,
   "id": "45ed8137-7c48-4af4-9db0-e07534318388",
   "metadata": {},
   "outputs": [
    {
     "name": "stdout",
     "output_type": "stream",
     "text": [
      "Python implementation: CPython\n",
      "Python version       : 3.9.13\n",
      "IPython version      : 8.4.0\n",
      "\n",
      "Compiler    : MSC v.1929 64 bit (AMD64)\n",
      "OS          : Windows\n",
      "Release     : 10\n",
      "Machine     : AMD64\n",
      "Processor   : Intel64 Family 6 Model 165 Stepping 2, GenuineIntel\n",
      "CPU cores   : 12\n",
      "Architecture: 64bit\n",
      "\n",
      "matplotlib: 3.5.2\n",
      "geemap    : 0.17.1\n",
      "ee        : 0.2\n",
      "\n"
     ]
    }
   ],
   "source": [
    "# Prints the python version and the imported package versions\n",
    "%watermark -v -m --iversions"
   ]
  },
  {
   "cell_type": "markdown",
   "id": "0008a06a-2b87-43e0-8947-817dbe881dc5",
   "metadata": {},
   "source": [
    "## Initialise an interactive map\n",
    "\n",
    "A geemap Map object provides an interactive map that allows users to explore GEE data within a jupyter notebook. This Map object also has numerous additional builtin functionality that allows users to:  \n",
    "1. Search the earth engine catalog  \n",
    "2. Change the basemap  \n",
    "3. Draw areas on the map that are then accessible via the EE API  \n",
    "4. Load locally stored vector and raster data  \n",
    "5. Inspect/query the layers that are shown  \n",
    "\n",
    "Once you run the code cell below, hover over the widgets on the top left and right. The globe widget on the top left, allows users to search for earth engine datasets or places using their names or latitudes and longitudes. The tool widget on the top right has a lot more functionality which you can find out more about in the key features section [here](https://geemap.org/)."
   ]
  },
  {
   "cell_type": "code",
   "execution_count": 4,
   "id": "fe348042-4514-4afa-9b7a-685329690a7a",
   "metadata": {},
   "outputs": [
    {
     "data": {
      "application/vnd.jupyter.widget-view+json": {
       "model_id": "801d1acb4be1470b8c9965004a525949",
       "version_major": 2,
       "version_minor": 0
      },
      "text/plain": [
       "Map(center=[20, 0], controls=(WidgetControl(options=['position', 'transparent_bg'], widget=HBox(children=(Togg…"
      ]
     },
     "metadata": {},
     "output_type": "display_data"
    }
   ],
   "source": [
    "# Create an interactive map\n",
    "Map = geemap.Map()\n",
    "Map"
   ]
  },
  {
   "cell_type": "markdown",
   "id": "bd7586c8-ade1-494e-a5b9-1c5c5e38f922",
   "metadata": {},
   "source": [
    "## 01. Basic supervised classification\n",
    "\n",
    "We will learn how to do a basic land cover classification using training samples collected from the Code Editor using the High Resolution basemap imagery provided by Google Maps. This method is quite effective to generate high quality classification samples anywhere in the world.\n",
    "\n",
    "The goal is to classify each source pixel into one of the following classes:\n",
    "\n",
    "- Urban\n",
    "- Bare\n",
    "- Water\n",
    "- Vegetation\n",
    "\n",
    "Specifically, using the drawing tools in the map,  4 new feature collections with points representing pixels of that class were created. Each feature collection has a property called landcover with values of 0, 1, 2 or 3 indicating whether the feature collection represents urban, bare, water or vegetation respectively.\n",
    "\n",
    "We then train a Random Forest classifier using this training set to build a model and apply it to all the pixels of the image to create a 4 class image."
   ]
  },
  {
   "cell_type": "code",
   "execution_count": 5,
   "id": "f75a0e38-701c-4f33-ad61-7fae6a52b360",
   "metadata": {},
   "outputs": [
    {
     "data": {
      "application/vnd.jupyter.widget-view+json": {
       "model_id": "801d1acb4be1470b8c9965004a525949",
       "version_major": 2,
       "version_minor": 0
      },
      "text/plain": [
       "Map(center=[12.954774480921643, 77.65618319730623], controls=(WidgetControl(options=['position', 'transparent_…"
      ]
     },
     "metadata": {},
     "output_type": "display_data"
    }
   ],
   "source": [
    "# Load Bangolore boundary\n",
    "bangalore = ee.FeatureCollection(\"users/ujavalgandhi/public/bangalore_boundary\")\n",
    "# Load Sentinel-2 atmospherically corrected data\n",
    "s2 = ee.ImageCollection(\"COPERNICUS/S2_SR_HARMONIZED\")\n",
    "\n",
    "# The following collections were created using the \n",
    "# Drawing Tools in the code editor \n",
    "urban = ee.FeatureCollection(\"users/ujavalgandhi/e2e/urban_gcps\")\n",
    "bare = ee.FeatureCollection(\"users/ujavalgandhi/e2e/bare_gcps\")\n",
    "water = ee.FeatureCollection(\"users/ujavalgandhi/e2e/water_gcps\")\n",
    "vegetation = ee.FeatureCollection(\"users/ujavalgandhi/e2e/vegetation_gcps\")\n",
    "\n",
    "# Filter Sentinel-2 data\n",
    "# Select images with less than 30% cloud cover\n",
    "# Select images for 2019. end-date is exclusive\n",
    "# Select images that overlap the bangalore boundary\n",
    "# Select all bands starting with the letter 'B'\n",
    "filtered = s2\\\n",
    "    .filter(ee.Filter.lt('CLOUDY_PIXEL_PERCENTAGE', 30))\\\n",
    "    .filter(ee.Filter.date('2019-01-01', '2020-01-01'))\\\n",
    "    .filter(ee.Filter.geometry(bangalore))\\\n",
    "    .select('B.*')\n",
    "\n",
    "# Using all remaining images after filtering, compute the median and clip to the boundary of the bangalore boundary\n",
    "composite = filtered.median().clip(bangalore) \n",
    "\n",
    "# Define the visualisation parameters to display the input composite.\n",
    "rgbVis = {\n",
    "  \"min\": 0.0,\n",
    "  \"max\": 3000,\n",
    "  \"bands\": ['B4', 'B3', 'B2'],\n",
    "}\n",
    "\n",
    "Map.centerObject(urban.first(), 9)# Center the map on the composite geometry\n",
    "Map.addLayer(composite, rgbVis, \"image\")# Visualise the Sentinel-2 composite\n",
    "# Plot the locations of the reference points\n",
    "Map.addLayer(urban, {}, \"urban\")\n",
    "Map.addLayer(bare, {}, \"bare\")\n",
    "Map.addLayer(water, {}, \"water\")\n",
    "Map.addLayer(vegetation, {}, \"vegetation\")\n",
    "Map"
   ]
  },
  {
   "cell_type": "markdown",
   "id": "089b819b-eaa0-43f6-9f8c-8f92ec701be6",
   "metadata": {},
   "source": [
    "## Extract data\n",
    "\n",
    "Previously, we sampled the composite image at the reference points. Here, we will instead eaxtract this data and save it locally in a csv file."
   ]
  },
  {
   "cell_type": "code",
   "execution_count": 6,
   "id": "83f2cf8d-ac21-4d2e-9226-e132898b2222",
   "metadata": {},
   "outputs": [],
   "source": [
    "%load_ext autoreload\n",
    "%autoreload 2"
   ]
  },
  {
   "cell_type": "code",
   "execution_count": 7,
   "id": "7ecca5e5-9855-4df5-b335-73436a4545a7",
   "metadata": {},
   "outputs": [],
   "source": [
    "from sklearn.ensemble import RandomForestClassifier\n",
    "import pandas as pd\n",
    "import rasterio as rio\n",
    "from utils import inference"
   ]
  },
  {
   "cell_type": "code",
   "execution_count": 9,
   "id": "b1f88639-ae2f-4552-b7a3-a0d5cc643b20",
   "metadata": {},
   "outputs": [
    {
     "data": {
      "application/vnd.jupyter.widget-view+json": {
       "model_id": "91d3b0bec53f4b85b10c20b8aed951aa",
       "version_major": 2,
       "version_minor": 0
      },
      "text/plain": [
       "classified.tif:   0%|          | 0/56 [00:00<?, ?it/s]"
      ]
     },
     "metadata": {},
     "output_type": "display_data"
    }
   ],
   "source": [
    "# Combine the feature collections\n",
    "gcps = urban.merge(bare).merge(water).merge(vegetation)\n",
    "\n",
    "# Overlay the point on the image to get training data.\n",
    "training = composite.sampleRegions(**{\n",
    "  \"collection\": gcps,\n",
    "  \"properties\": ['landcover'], \n",
    "  \"scale\": 10\n",
    "})\n",
    "\n",
    "# Extract data\n",
    "df = geemap.ee_to_pandas(training)\n",
    "\n",
    "# Train a classifier.\n",
    "classifier = RandomForestClassifier(n_estimators = 50, random_state = 42).fit(\n",
    "    X = df.drop('landcover', axis=1), y = df[['landcover']])\n",
    "                                                           \n",
    "# Download composite image (takes ~ 5 minutes to download and mosaic)\n",
    "if not os.path.exists('composite.tif'):\n",
    "    geemap.download_ee_image(composite, \"composite.tif\", region = bangalore.geometry(),\n",
    "                         scale=10, crs = 'EPSG:4326', unmask_value = -9999)\n",
    "\n",
    "# Run inference on the composite image using the trained model (takes ~30 seconds with a patch size of 512x 512 seconds)\n",
    "inference('composite.tif', classifier, 'classified.tif', 512)"
   ]
  },
  {
   "cell_type": "code",
   "execution_count": 10,
   "id": "556ffb90-5216-4a17-9c6e-a24bd92282a9",
   "metadata": {},
   "outputs": [
    {
     "data": {
      "application/vnd.jupyter.widget-view+json": {
       "model_id": "ff0070bdd5aa414a891877152760c3da",
       "version_major": 2,
       "version_minor": 0
      },
      "text/plain": [
       "Map(center=[20, 0], controls=(WidgetControl(options=['position', 'transparent_bg'], widget=HBox(children=(Togg…"
      ]
     },
     "metadata": {},
     "output_type": "display_data"
    }
   ],
   "source": [
    "Map = geemap.Map()\n",
    "Map.add_raster('composite.tif', bands = [4, 3, 2], vmin = 0 , vmax = 3000, layer_name = 'Local composite')\n",
    "Map.add_raster('classified.tif', band = [0], vmin = 0 , vmax = 3, layer_name = 'Classified')\n",
    "Map"
   ]
  },
  {
   "cell_type": "code",
   "execution_count": 11,
   "id": "c80bce17-f844-4834-bc2b-105c495130f9",
   "metadata": {},
   "outputs": [],
   "source": [
    "# Display the collected points\n",
    "# We use the style() function to style the reference points\n",
    "palette = ee.List(['gray','brown','blue','green'])\n",
    "landcover = ee.List([0, 1, 2, 3])\n",
    "\n",
    "def fun(lc):\n",
    "    color = palette.get(landcover.indexOf(lc))\n",
    "    markerStyle = {\"color\": \"white\", \"pointShape\": \"diamond\", \"pointSize\": 4, \"width\": 1, \"fillColor\": color}\n",
    "    return gcps.filter(ee.Filter.eq(\"landcover\", lc)).map(lambda point: point.set(\"style\", markerStyle))\n",
    "\n",
    "gcpsStyled = ee.FeatureCollection(landcover.map(lambda lc: fun(lc))).flatten()\n",
    "      \n",
    "Map.addLayer(gcpsStyled.style(**{\"styleProperty\":\"style\"}), {}, 'GCPs')"
   ]
  },
  {
   "cell_type": "markdown",
   "id": "907a2056-08e1-4b40-9901-e8c82cd427b9",
   "metadata": {},
   "source": [
    "## 02. Accuracy Assessment\n",
    "\n",
    "It is important to get a quantitative estimate of the accuracy of the classification. To do this, a common strategy is to divide your training samples into 2 random fractions: one used for training the model and the other for validation of the predictions.\n",
    "\n",
    "Once a classifier is trained, it can be used to classify the entire image. We can then compare the classified values with the ones in the validation fraction. We can use the ee.Classifier.confusionMatrix() method to calculate a Confusion Matrix representing expected accuracy.\n",
    "\n",
    "Don't get carried away tweaking your model to give you the highest validation accuracy. You must use both qualitative measures (such as visual inspection of results) along with quantitative measures to assess the results."
   ]
  },
  {
   "cell_type": "code",
   "execution_count": 13,
   "id": "d1169104-9a4b-439a-9ee3-8de6d56b5dc1",
   "metadata": {},
   "outputs": [],
   "source": [
    "# Load Sentinel-2, Filter, compute median and clip to area of interest (a basin within bangolore)\n",
    "s2 = ee.ImageCollection(\"COPERNICUS/S2_SR_HARMONIZED\")\n",
    "basin = ee.FeatureCollection(\"WWF/HydroSHEDS/v1/Basins/hybas_7\")\n",
    "gcp = ee.FeatureCollection(\"users/ujavalgandhi/e2e/arkavathy_gcps\")\n",
    "    \n",
    "arkavathy = basin.filter(ee.Filter.eq('HYBAS_ID', 4071139640))\n",
    "boundary = arkavathy.geometry()\n",
    "rgbVis = {\n",
    "  \"min\": 0.0,\n",
    "  \"max\": 3000,\n",
    "  \"bands\": ['B4', 'B3', 'B2'],\n",
    "}\n",
    " \n",
    "filtered = s2\\\n",
    "    .filter(ee.Filter.lt('CLOUDY_PIXEL_PERCENTAGE', 30))\\\n",
    "    .filter(ee.Filter.date('2019-01-01', '2020-01-01'))\\\n",
    "    .filter(ee.Filter.geometry(boundary))\\\n",
    "    .select('B.*')\n",
    "\n",
    "composite = filtered.median().clip(boundary) \n",
    "\n",
    "# Display the input composite.\n",
    "Map.addLayer(composite, rgbVis, 'image');"
   ]
  },
  {
   "cell_type": "code",
   "execution_count": 18,
   "id": "1feb6a72-fbbe-445f-8b49-75473fab1d30",
   "metadata": {},
   "outputs": [
    {
     "data": {
      "application/vnd.jupyter.widget-view+json": {
       "model_id": "71509d4e3aa74c4fb46868c64a926bb9",
       "version_major": 2,
       "version_minor": 0
      },
      "text/plain": [
       "classified2.tif:   0%|          | 0/56 [00:00<?, ?it/s]"
      ]
     },
     "metadata": {},
     "output_type": "display_data"
    }
   ],
   "source": [
    "# Add a random column and split the GCPs into training and validation set\n",
    "gcp = gcp.randomColumn(seed = 42)\n",
    "\n",
    "# This being a simpler classification, we take 60% points\n",
    "# for validation. A more popuular ratio is\n",
    "# 70% training, 30% validation\n",
    "trainingGcp = gcp.filter(ee.Filter.lt('random', 0.6))\n",
    "validationGcp = gcp.filter(ee.Filter.gte('random', 0.6))\n",
    "\n",
    "# Extract the image values at the point locations to get training data.\n",
    "training = composite.sampleRegions(**{\n",
    "  \"collection\": trainingGcp,\n",
    "  \"properties\": ['landcover'],\n",
    "  \"scale\": 10,\n",
    "  \"tileScale\": 16\n",
    "})\n",
    "\n",
    "# Extract data\n",
    "df = geemap.ee_to_pandas(training)\n",
    "\n",
    "# Train a classifier.\n",
    "classifier = RandomForestClassifier(n_estimators = 50, random_state = 42).fit(\n",
    "    X = df.drop('landcover', axis=1), y = df[['landcover']])\n",
    "\n",
    "# Run inference on the composite image using the trained model (takes ~30 seconds with a patch size of 512x 512 seconds)\n",
    "inference('composite.tif', classifier, 'classified2.tif', 512)\n",
    "\n",
    "Map.add_raster('classified2.tif', band = [0], vmin = 0 , vmax = 3, layer_name = 'Classified')"
   ]
  },
  {
   "cell_type": "markdown",
   "id": "e0e968f3-0d5e-4287-b906-e50e889ab124",
   "metadata": {},
   "source": [
    "## Accuracy Assessment"
   ]
  },
  {
   "cell_type": "code",
   "execution_count": 28,
   "id": "aeeb70f6-8cc3-40a3-82a1-08cd62b073b6",
   "metadata": {},
   "outputs": [
    {
     "name": "stdout",
     "output_type": "stream",
     "text": [
      "Precision: 0.9473610126586463\n",
      "Recall: 0.9441340782122905\n",
      "F1 Score: 0.9443496532432384\n"
     ]
    }
   ],
   "source": [
    "# Use the classification map and the validation points to estimate the models accuracy.\n",
    "test = composite.sampleRegions(**{\n",
    "  \"collection\": validationGcp,\n",
    "  \"properties\": ['landcover'],\n",
    "  \"tileScale\": 16,\n",
    "  \"scale\": 10,\n",
    "})\n",
    "\n",
    "# Extract data\n",
    "testdf = geemap.ee_to_pandas(test)\n",
    "\n",
    "# Predict the validation set results\n",
    "y_test_hat = classifier.predict(testdf.drop(['landcover'],axis=1))\n",
    "\n",
    "from sklearn.metrics import precision_score, recall_score, f1_score, confusion_matrix, classification_report\n",
    "import seaborn as sns\n",
    "import matplotlib.pyplot as plt\n",
    "\n",
    "# Calculate precision, recall, and F1 score\n",
    "precision = precision_score(testdf['landcover'], y_test_hat, average='weighted')\n",
    "recall = recall_score(testdf['landcover'], y_test_hat, average='weighted')\n",
    "f1 = f1_score(testdf['landcover'], y_test_hat, average='weighted')\n",
    "\n",
    "print(f\"Precision: {precision}\")\n",
    "print(f\"Recall: {recall}\")\n",
    "print(f\"F1 Score: {f1}\")\n"
   ]
  },
  {
   "cell_type": "code",
   "execution_count": 47,
   "id": "e515f3a4-6c6f-4537-a94f-420a906f64c6",
   "metadata": {},
   "outputs": [
    {
     "name": "stdout",
     "output_type": "stream",
     "text": [
      "              precision    recall  f1-score   support\n",
      "\n",
      "       Urban       0.85      0.95      0.90        41\n",
      "        Bare       0.96      0.87      0.91        54\n",
      "       Water       0.98      1.00      0.99        47\n",
      "  Vegetation       1.00      0.97      0.99        37\n",
      "\n",
      "    accuracy                           0.94       179\n",
      "   macro avg       0.95      0.95      0.95       179\n",
      "weighted avg       0.95      0.94      0.94       179\n",
      "\n"
     ]
    },
    {
     "data": {
      "image/png": "[encoded data removed]",
      "text/plain": [
       "<Figure size 504x360 with 2 Axes>"
      ]
     },
     "metadata": {
      "needs_background": "light"
     },
     "output_type": "display_data"
    }
   ],
   "source": [
    "target_names = ['Urban', 'Bare', 'Water', 'Vegetation']\n",
    "print(classification_report(testdf['landcover'], y_test_hat, target_names=target_names))\n",
    "\n",
    "# Calculate confusion matrix\n",
    "cm = confusion_matrix(testdf['landcover'], y_test_hat, normalize=\"true\")\n",
    "\n",
    "# Plot confusion matrix\n",
    "plt.figure(figsize=(7,5))\n",
    "sns.heatmap(cm, annot=True, xticklabels= target_names, yticklabels= target_names)\n",
    "plt.xlabel('Predicted')\n",
    "plt.ylabel('True')\n",
    "plt.show()"
   ]
  },
  {
   "cell_type": "markdown",
   "id": "098eacd4-c1e9-4b4c-a20a-0c50d0628395",
   "metadata": {},
   "source": [
    "## 03. Improving the Classification\n",
    "\n",
    "The Earth Engine data-model is especially well suited for ML tasks because of its ability to easily incorporate data sources of different spatial resolutions, projections and data types together By giving additional information to the classifier, it is able to separate different classes easily.\n",
    "\n",
    "Here we take the same example and augment it with different spectral indices such as - NDVI, NDBI, MNDWI and BSI. We also add slope and elevation bands from the ALOS DEM.\n",
    "\n",
    "The result is a much improve the classification."
   ]
  },
  {
   "cell_type": "code",
   "execution_count": 37,
   "id": "cedd0de0-5657-4d91-bc9f-7af073bc34c7",
   "metadata": {},
   "outputs": [
    {
     "data": {
      "application/vnd.jupyter.widget-view+json": {
       "model_id": "da1d56bcfc8940c093d6c0f5c4ab3111",
       "version_major": 2,
       "version_minor": 0
      },
      "text/plain": [
       "composite_03.tif: |                                                   | 0.00/8.99M (raw) [  0.0%] in 00:00 (et…"
      ]
     },
     "metadata": {},
     "output_type": "display_data"
    },
    {
     "name": "stderr",
     "output_type": "stream",
     "text": [
      "There is no STAC entry for: None\n"
     ]
    }
   ],
   "source": [
    "s2 = ee.ImageCollection(\"COPERNICUS/S2_SR_HARMONIZED\")\n",
    "basin = ee.FeatureCollection(\"WWF/HydroSHEDS/v1/Basins/hybas_7\")\n",
    "gcp = ee.FeatureCollection(\"users/ujavalgandhi/e2e/arkavathy_gcps\")\n",
    "alos = ee.Image(\"JAXA/ALOS/AW3D30/V2_2\")\n",
    "\n",
    "arkavathy = basin.filter(ee.Filter.eq('HYBAS_ID', 4071139640))\n",
    "boundary = arkavathy.geometry()\n",
    "rgbVis = {\n",
    "  \"min\": 0.0,\n",
    "  \"max\": 3000,\n",
    "  \"bands\": ['B4', 'B3', 'B2'],\n",
    "}\n",
    "\n",
    "def maskCloudAndShadowsSR(img):\n",
    "    \"\"\"Removes cloud and snow pixels from Sentinel-2 SR image.\"\"\"\n",
    "    cloudProb = img.select('MSK_CLDPRB')\n",
    "    snowProb = img.select('MSK_SNWPRB')\n",
    "    cloud = cloudProb.lt(10)\n",
    "    scl = img.select('SCL') \n",
    "    shadow = scl.eq(3)\n",
    "    cirrus = scl.eq(10)\n",
    "    \n",
    "    # Cloud probability less than 10% or cloud shadow classification\n",
    "    mask = cloud.And(cirrus.neq(1)).And(shadow.neq(1))\n",
    "    return img.updateMask(mask).divide(10000)\n",
    "\n",
    "\n",
    "filtered = s2\\\n",
    "    .filter(ee.Filter.lt('CLOUDY_PIXEL_PERCENTAGE', 30))\\\n",
    "    .filter(ee.Filter.date('2019-01-01', '2019-12-31'))\\\n",
    "    .filter(ee.Filter.geometry(boundary))\\\n",
    "    .map(maskCloudAndShadowsSR)\\\n",
    "    .select('B.*')\n",
    "\n",
    "composite = filtered.median().clip(boundary) \n",
    "\n",
    "def addIndices(img):\n",
    "    ndvi = img.normalizedDifference(['B8', 'B4']).rename(['ndvi'])# Vegetation index\n",
    "    ndbi = img.normalizedDifference(['B11', 'B8']).rename(['ndbi'])# Built-up index\n",
    "    mndwi = img.normalizedDifference(['B3', 'B11']).rename(['mndwi'])# Modified water index\n",
    "    bsi = img.expression( #Bare soil inedex\n",
    "      \"(( X + Y ) - (A + B)) /(( X + Y ) + (A + B))\", {\n",
    "        \"X\": img.select(\"B11\"),\n",
    "        \"Y\": img.select(\"B4\"),\n",
    "        \"A\": img.select(\"B8\"),\n",
    "        \"B\": img.select(\"B2\")\n",
    "      }).rename(\"bsi\")\n",
    "    return img.addBands(ndvi).addBands(ndbi).addBands(mndwi).addBands(bsi)\n",
    "\n",
    "composite = addIndices(composite)\n",
    "\n",
    "elev = alos.select('AVE_DSM').divide(2000).rename('elev')\n",
    "slope = ee.Terrain.slope(alos.select('AVE_DSM')).divide(30).rename('slope')\n",
    "\n",
    "composite = composite.addBands([elev, slope])\n",
    "\n",
    "visParams = {\"bands\": ['B4', 'B3', 'B2'], \"min\": 0, \"max\": 0.3, \"gamma\": 1.2}\n",
    "Map.addLayer(composite, visParams, 'RGB')\n",
    "\n",
    "# Download composite image (takes ~ 5 minutes to download and mosaic)\n",
    "filename = 'composite_03.tif'\n",
    "if not os.path.exists(filename):\n",
    "    geemap.download_ee_image(composite, filename, region = bangalore.geometry(),\n",
    "                         scale=100, crs = 'EPSG:4326', unmask_value = -9999)"
   ]
  },
  {
   "cell_type": "code",
   "execution_count": 38,
   "id": "63abf732-ea81-46d2-908d-ecdeab765bc9",
   "metadata": {},
   "outputs": [
    {
     "data": {
      "application/vnd.jupyter.widget-view+json": {
       "model_id": "549888ac88ed46b7ac65c86658b8a877",
       "version_major": 2,
       "version_minor": 0
      },
      "text/plain": [
       "classified_03.tif:   0%|          | 0/1 [00:00<?, ?it/s]"
      ]
     },
     "metadata": {},
     "output_type": "display_data"
    }
   ],
   "source": [
    "# Add a random column and split the GCPs into training and validation set\n",
    "gcp = gcp.randomColumn(seed = 42)\n",
    "\n",
    "# This being a simpler classification, we take 60% points\n",
    "# for validation. Normal recommended ratio is\n",
    "# 70% training, 30% validation\n",
    "trainingGcp = gcp.filter(ee.Filter.lt('random', 0.6))\n",
    "validationGcp = gcp.filter(ee.Filter.gte('random', 0.6))\n",
    "\n",
    "# Overlay the point on the image to get training data.\n",
    "training = composite.sampleRegions(**{\n",
    "  \"collection\": trainingGcp,\n",
    "  \"properties\": ['landcover'],\n",
    "  \"scale\": 10,\n",
    "  \"tileScale\": 16\n",
    "})\n",
    "\n",
    "# Train a classifier in GEE.\n",
    "classifier = ee.Classifier.smileRandomForest(numberOfTrees = 50, seed = 42)\\\n",
    "    .train(**{\n",
    "        \"features\": training,  \n",
    "        \"classProperty\": 'landcover',\n",
    "        \"inputProperties\": composite.bandNames()\n",
    "    })\n",
    "\n",
    "# Classify the image.\n",
    "classified = composite.classify(classifier)\n",
    "\n",
    "Map.addLayer(classified, {\"min\": 0, \"max\": 3, \"palette\": ['gray', 'brown', 'blue', 'green']}, '2019')\n"
   ]
  },
  {
   "cell_type": "code",
   "execution_count": 52,
   "id": "2353a4f9-dedb-4c28-ba48-dfb4aaf58928",
   "metadata": {
    "collapsed": true,
    "jupyter": {
     "outputs_hidden": true
    },
    "tags": []
   },
   "outputs": [
    {
     "ename": "CPLE_AppDefinedError",
     "evalue": "Deleting classified_03.tif failed: Permission denied",
     "output_type": "error",
     "traceback": [
      "\u001b[1;31m---------------------------------------------------------------------------\u001b[0m",
      "\u001b[1;31mCPLE_AppDefinedError\u001b[0m                      Traceback (most recent call last)",
      "Input \u001b[1;32mIn [52]\u001b[0m, in \u001b[0;36m<cell line: 9>\u001b[1;34m()\u001b[0m\n\u001b[0;32m      5\u001b[0m classifier \u001b[38;5;241m=\u001b[39m RandomForestClassifier(n_estimators \u001b[38;5;241m=\u001b[39m \u001b[38;5;241m50\u001b[39m, random_state \u001b[38;5;241m=\u001b[39m \u001b[38;5;241m42\u001b[39m)\u001b[38;5;241m.\u001b[39mfit(\n\u001b[0;32m      6\u001b[0m     X \u001b[38;5;241m=\u001b[39m traindf\u001b[38;5;241m.\u001b[39mdrop(\u001b[38;5;124m'\u001b[39m\u001b[38;5;124mlandcover\u001b[39m\u001b[38;5;124m'\u001b[39m, axis\u001b[38;5;241m=\u001b[39m\u001b[38;5;241m1\u001b[39m), y \u001b[38;5;241m=\u001b[39m traindf[[\u001b[38;5;124m'\u001b[39m\u001b[38;5;124mlandcover\u001b[39m\u001b[38;5;124m'\u001b[39m]])\n\u001b[0;32m      8\u001b[0m \u001b[38;5;66;03m# Run inference on the composite image using the trained model (takes ~30 seconds with a patch size of 512x 512 seconds)\u001b[39;00m\n\u001b[1;32m----> 9\u001b[0m \u001b[43minference\u001b[49m\u001b[43m(\u001b[49m\u001b[43mfilename\u001b[49m\u001b[43m,\u001b[49m\u001b[43m \u001b[49m\u001b[43mclassifier\u001b[49m\u001b[43m,\u001b[49m\u001b[43m \u001b[49m\u001b[38;5;124;43m'\u001b[39;49m\u001b[38;5;124;43mclassified_03.tif\u001b[39;49m\u001b[38;5;124;43m'\u001b[39;49m\u001b[43m,\u001b[49m\u001b[43m \u001b[49m\u001b[38;5;241;43m512\u001b[39;49m\u001b[43m)\u001b[49m\n",
      "File \u001b[1;32m~\\Documents\\scratch\\GeoAI in GEE\\utils.py:62\u001b[0m, in \u001b[0;36minference\u001b[1;34m(infile, model, outfile, patchSize, num_workers)\u001b[0m\n\u001b[0;32m     59\u001b[0m profile \u001b[38;5;241m=\u001b[39m src\u001b[38;5;241m.\u001b[39mprofile\n\u001b[0;32m     60\u001b[0m profile\u001b[38;5;241m.\u001b[39mupdate(blockxsize\u001b[38;5;241m=\u001b[39m patchSize, blockysize\u001b[38;5;241m=\u001b[39m patchSize, tiled\u001b[38;5;241m=\u001b[39m\u001b[38;5;28;01mTrue\u001b[39;00m, count\u001b[38;5;241m=\u001b[39m\u001b[38;5;241m1\u001b[39m)\n\u001b[1;32m---> 62\u001b[0m \u001b[38;5;28;01mwith\u001b[39;00m rio\u001b[38;5;241m.\u001b[39mopen(Path(outfile), \u001b[38;5;124m\"\u001b[39m\u001b[38;5;124mw\u001b[39m\u001b[38;5;124m\"\u001b[39m, \u001b[38;5;241m*\u001b[39m\u001b[38;5;241m*\u001b[39mprofile) \u001b[38;5;28;01mas\u001b[39;00m dst:\n\u001b[0;32m     63\u001b[0m     windows \u001b[38;5;241m=\u001b[39m [window \u001b[38;5;28;01mfor\u001b[39;00m ij, window \u001b[38;5;129;01min\u001b[39;00m dst\u001b[38;5;241m.\u001b[39mblock_windows()]\n\u001b[0;32m     65\u001b[0m     \u001b[38;5;66;03m# use a lock to protect the DatasetReader/Writer\u001b[39;00m\n",
      "File \u001b[1;32mC:\\ProgramData\\Anaconda3\\envs\\erthy\\lib\\site-packages\\rasterio\\env.py:442\u001b[0m, in \u001b[0;36mensure_env_with_credentials.<locals>.wrapper\u001b[1;34m(*args, **kwds)\u001b[0m\n\u001b[0;32m    439\u001b[0m     session \u001b[38;5;241m=\u001b[39m DummySession()\n\u001b[0;32m    441\u001b[0m \u001b[38;5;28;01mwith\u001b[39;00m env_ctor(session\u001b[38;5;241m=\u001b[39msession):\n\u001b[1;32m--> 442\u001b[0m     \u001b[38;5;28;01mreturn\u001b[39;00m f(\u001b[38;5;241m*\u001b[39margs, \u001b[38;5;241m*\u001b[39m\u001b[38;5;241m*\u001b[39mkwds)\n",
      "File \u001b[1;32mC:\\ProgramData\\Anaconda3\\envs\\erthy\\lib\\site-packages\\rasterio\\__init__.py:287\u001b[0m, in \u001b[0;36mopen\u001b[1;34m(fp, mode, driver, width, height, count, crs, transform, dtype, nodata, sharing, **kwargs)\u001b[0m\n\u001b[0;32m    285\u001b[0m writer \u001b[38;5;241m=\u001b[39m get_writer_for_driver(driver)\n\u001b[0;32m    286\u001b[0m \u001b[38;5;28;01mif\u001b[39;00m writer \u001b[38;5;129;01mis\u001b[39;00m \u001b[38;5;129;01mnot\u001b[39;00m \u001b[38;5;28;01mNone\u001b[39;00m:\n\u001b[1;32m--> 287\u001b[0m     dataset \u001b[38;5;241m=\u001b[39m writer(\n\u001b[0;32m    288\u001b[0m         path,\n\u001b[0;32m    289\u001b[0m         mode,\n\u001b[0;32m    290\u001b[0m         driver\u001b[38;5;241m=\u001b[39mdriver,\n\u001b[0;32m    291\u001b[0m         width\u001b[38;5;241m=\u001b[39mwidth,\n\u001b[0;32m    292\u001b[0m         height\u001b[38;5;241m=\u001b[39mheight,\n\u001b[0;32m    293\u001b[0m         count\u001b[38;5;241m=\u001b[39mcount,\n\u001b[0;32m    294\u001b[0m         crs\u001b[38;5;241m=\u001b[39mcrs,\n\u001b[0;32m    295\u001b[0m         transform\u001b[38;5;241m=\u001b[39mtransform,\n\u001b[0;32m    296\u001b[0m         dtype\u001b[38;5;241m=\u001b[39mdtype,\n\u001b[0;32m    297\u001b[0m         nodata\u001b[38;5;241m=\u001b[39mnodata,\n\u001b[0;32m    298\u001b[0m         sharing\u001b[38;5;241m=\u001b[39msharing,\n\u001b[0;32m    299\u001b[0m         \u001b[38;5;241m*\u001b[39m\u001b[38;5;241m*\u001b[39mkwargs\n\u001b[0;32m    300\u001b[0m     )\n\u001b[0;32m    301\u001b[0m \u001b[38;5;28;01melse\u001b[39;00m:\n\u001b[0;32m    302\u001b[0m     \u001b[38;5;28;01mraise\u001b[39;00m DriverCapabilityError(\n\u001b[0;32m    303\u001b[0m         \u001b[38;5;124m\"\u001b[39m\u001b[38;5;124mWriter does not exist for driver: \u001b[39m\u001b[38;5;132;01m%s\u001b[39;00m\u001b[38;5;124m\"\u001b[39m \u001b[38;5;241m%\u001b[39m \u001b[38;5;28mstr\u001b[39m(driver)\n\u001b[0;32m    304\u001b[0m     )\n",
      "File \u001b[1;32mrasterio\\_io.pyx:1423\u001b[0m, in \u001b[0;36mrasterio._io.DatasetWriterBase.__init__\u001b[1;34m()\u001b[0m\n",
      "File \u001b[1;32mrasterio\\_io.pyx:289\u001b[0m, in \u001b[0;36mrasterio._io._delete_dataset_if_exists\u001b[1;34m()\u001b[0m\n",
      "File \u001b[1;32mrasterio\\_err.pyx:191\u001b[0m, in \u001b[0;36mrasterio._err.exc_wrap_int\u001b[1;34m()\u001b[0m\n",
      "\u001b[1;31mCPLE_AppDefinedError\u001b[0m: Deleting classified_03.tif failed: Permission denied"
     ]
    }
   ],
   "source": [
    "# Extract data\n",
    "traindf = geemap.ee_to_pandas(training)\n",
    "\n",
    "# Train a classifier.\n",
    "classifier = RandomForestClassifier(n_estimators = 50, random_state = 42).fit(\n",
    "    X = traindf.drop('landcover', axis=1), y = traindf[['landcover']])\n",
    "\n",
    "# Run inference on the composite image using the trained model (takes ~30 seconds with a patch size of 512x 512 seconds)\n",
    "inference(filename, classifier, 'classified_03.tif', 512)"
   ]
  },
  {
   "cell_type": "markdown",
   "id": "fdfbf68d-7f9c-4276-88e9-69b22d465655",
   "metadata": {},
   "source": [
    "## Accuracy Assessment"
   ]
  },
  {
   "cell_type": "code",
   "execution_count": 56,
   "id": "613f98c5-4cb4-4a15-b0be-ee71823dbae4",
   "metadata": {},
   "outputs": [
    {
     "name": "stdout",
     "output_type": "stream",
     "text": [
      "              precision    recall  f1-score   support\n",
      "\n",
      "       Urban       0.88      0.90      0.89        39\n",
      "        Bare       0.90      0.88      0.89        40\n",
      "       Water       0.97      0.90      0.94        40\n",
      "  Vegetation       0.91      0.98      0.94        42\n",
      "\n",
      "    accuracy                           0.91       161\n",
      "   macro avg       0.91      0.91      0.91       161\n",
      "weighted avg       0.91      0.91      0.91       161\n",
      "\n"
     ]
    },
    {
     "data": {
      "image/png": "[encoded data removed]",
      "text/plain": [
       "<Figure size 504x360 with 2 Axes>"
      ]
     },
     "metadata": {
      "needs_background": "light"
     },
     "output_type": "display_data"
    }
   ],
   "source": [
    "# Use classification map to assess accuracy using the validation fraction\n",
    "# of the overall training set created above.\n",
    "test = composite.sampleRegions(**{\n",
    "  \"collection\": validationGcp,\n",
    "  \"properties\": ['landcover'],\n",
    "  \"scale\": 10,\n",
    "  \"tileScale\": 16\n",
    "})\n",
    "\n",
    "testdf = geemap.ee_to_pandas(test)\n",
    "y_test_hat = classifier.predict(testdf.drop(['landcover'],axis=1))\n",
    "\n",
    "target_names = ['Urban', 'Bare', 'Water', 'Vegetation']\n",
    "print(classification_report(testdf['landcover'], y_test_hat, target_names=target_names))\n",
    "\n",
    "# Calculate confusion matrix\n",
    "cm = confusion_matrix(testdf['landcover'], y_test_hat, normalize=\"true\")\n",
    "\n",
    "# Plot confusion matrix\n",
    "plt.figure(figsize=(7,5))\n",
    "sns.heatmap(cm, annot=True, xticklabels= target_names, yticklabels= target_names)\n",
    "plt.xlabel('Predicted')\n",
    "plt.ylabel('True')\n",
    "plt.show()"
   ]
  },
  {
   "cell_type": "markdown",
   "id": "829abcf3-9cb9-49bd-9daf-61469c0c3e9c",
   "metadata": {},
   "source": [
    "The addition of indices, elevation and the slope variable have slightly reduced the accuracy (93.8% vs 93.2%). Typically, the addition of covariates improves the accuracy, however, in this case it was not the outcome. When I used the default seed, there was a increase.\n",
    "\n",
    "**Takeaway:** If you are presenting results in a research paper, it is therefore recommended that the mean(standard deviation) scores are reported across multiple randomly selected seeds."
   ]
  },
  {
   "cell_type": "markdown",
   "id": "3cf522be-7990-4bcf-a2d2-df000e706c1d",
   "metadata": {},
   "source": [
    "## 04. Hyperparameter Tuning\n",
    "An additional way to improve a models accuracy is by modifying the hyperparameters of a model. So how do we determine what values to choose? The answer is hyperparameter tuning.\n",
    "\n",
    "For example, when using the ee.Classifier.smileRandomForest() classifier, we must specify the Number of Trees. We know that higher number of trees result in more computation requirement, but it doesn't necessarily result in better results.\n",
    "\n",
    "Instead of guessing, we programmatically try a range of values and choose the smallest value possible that results in the highest accuracy."
   ]
  },
  {
   "cell_type": "code",
   "execution_count": 103,
   "id": "f5ecfb0c-8ba2-4c50-aa3b-feb65207ed9d",
   "metadata": {},
   "outputs": [
    {
     "data": {
      "text/html": [
       "<div>\n",
       "<style scoped>\n",
       "    .dataframe tbody tr th:only-of-type {\n",
       "        vertical-align: middle;\n",
       "    }\n",
       "\n",
       "    .dataframe tbody tr th {\n",
       "        vertical-align: top;\n",
       "    }\n",
       "\n",
       "    .dataframe thead th {\n",
       "        text-align: right;\n",
       "    }\n",
       "</style>\n",
       "<table border=\"1\" class=\"dataframe\">\n",
       "  <thead>\n",
       "    <tr style=\"text-align: right;\">\n",
       "      <th></th>\n",
       "      <th>landcover</th>\n",
       "      <th>B11</th>\n",
       "      <th>B12</th>\n",
       "      <th>mndwi</th>\n",
       "      <th>B8A</th>\n",
       "      <th>slope</th>\n",
       "      <th>ndbi</th>\n",
       "      <th>B1</th>\n",
       "      <th>B2</th>\n",
       "      <th>B3</th>\n",
       "      <th>B4</th>\n",
       "      <th>B5</th>\n",
       "      <th>B6</th>\n",
       "      <th>B7</th>\n",
       "      <th>B8</th>\n",
       "      <th>B9</th>\n",
       "      <th>elev</th>\n",
       "      <th>bsi</th>\n",
       "      <th>ndvi</th>\n",
       "    </tr>\n",
       "  </thead>\n",
       "  <tbody>\n",
       "    <tr>\n",
       "      <th>0</th>\n",
       "      <td>0</td>\n",
       "      <td>0.52190</td>\n",
       "      <td>0.5526</td>\n",
       "      <td>-0.214992</td>\n",
       "      <td>0.35390</td>\n",
       "      <td>0.069484</td>\n",
       "      <td>0.207962</td>\n",
       "      <td>0.18740</td>\n",
       "      <td>0.30500</td>\n",
       "      <td>0.33720</td>\n",
       "      <td>0.36640</td>\n",
       "      <td>0.39210</td>\n",
       "      <td>0.37980</td>\n",
       "      <td>0.3701</td>\n",
       "      <td>0.34220</td>\n",
       "      <td>0.32500</td>\n",
       "      <td>0.4570</td>\n",
       "      <td>0.157017</td>\n",
       "      <td>-0.034152</td>\n",
       "    </tr>\n",
       "    <tr>\n",
       "      <th>1</th>\n",
       "      <td>0</td>\n",
       "      <td>0.45660</td>\n",
       "      <td>0.4882</td>\n",
       "      <td>-0.239414</td>\n",
       "      <td>0.29940</td>\n",
       "      <td>0.061811</td>\n",
       "      <td>0.216303</td>\n",
       "      <td>0.19790</td>\n",
       "      <td>0.23380</td>\n",
       "      <td>0.28020</td>\n",
       "      <td>0.30740</td>\n",
       "      <td>0.31810</td>\n",
       "      <td>0.31330</td>\n",
       "      <td>0.3068</td>\n",
       "      <td>0.29420</td>\n",
       "      <td>0.33770</td>\n",
       "      <td>0.4560</td>\n",
       "      <td>0.182663</td>\n",
       "      <td>-0.021941</td>\n",
       "    </tr>\n",
       "    <tr>\n",
       "      <th>2</th>\n",
       "      <td>0</td>\n",
       "      <td>0.60670</td>\n",
       "      <td>0.6272</td>\n",
       "      <td>-0.178173</td>\n",
       "      <td>0.39400</td>\n",
       "      <td>0.070621</td>\n",
       "      <td>0.181845</td>\n",
       "      <td>0.25670</td>\n",
       "      <td>0.36500</td>\n",
       "      <td>0.42320</td>\n",
       "      <td>0.43750</td>\n",
       "      <td>0.41290</td>\n",
       "      <td>0.40430</td>\n",
       "      <td>0.4097</td>\n",
       "      <td>0.42000</td>\n",
       "      <td>0.38210</td>\n",
       "      <td>0.4595</td>\n",
       "      <td>0.141701</td>\n",
       "      <td>-0.020408</td>\n",
       "    </tr>\n",
       "    <tr>\n",
       "      <th>3</th>\n",
       "      <td>0</td>\n",
       "      <td>0.28530</td>\n",
       "      <td>0.2702</td>\n",
       "      <td>-0.256551</td>\n",
       "      <td>0.25630</td>\n",
       "      <td>0.100087</td>\n",
       "      <td>0.103035</td>\n",
       "      <td>0.10080</td>\n",
       "      <td>0.12720</td>\n",
       "      <td>0.16880</td>\n",
       "      <td>0.20560</td>\n",
       "      <td>0.23270</td>\n",
       "      <td>0.24310</td>\n",
       "      <td>0.2455</td>\n",
       "      <td>0.23200</td>\n",
       "      <td>0.25940</td>\n",
       "      <td>0.4495</td>\n",
       "      <td>0.154923</td>\n",
       "      <td>0.060329</td>\n",
       "    </tr>\n",
       "    <tr>\n",
       "      <th>4</th>\n",
       "      <td>0</td>\n",
       "      <td>0.56640</td>\n",
       "      <td>0.6127</td>\n",
       "      <td>-0.164354</td>\n",
       "      <td>0.38765</td>\n",
       "      <td>0.112289</td>\n",
       "      <td>0.147720</td>\n",
       "      <td>0.17970</td>\n",
       "      <td>0.35180</td>\n",
       "      <td>0.40650</td>\n",
       "      <td>0.43660</td>\n",
       "      <td>0.40780</td>\n",
       "      <td>0.40960</td>\n",
       "      <td>0.3967</td>\n",
       "      <td>0.42060</td>\n",
       "      <td>0.32425</td>\n",
       "      <td>0.4500</td>\n",
       "      <td>0.129886</td>\n",
       "      <td>-0.018665</td>\n",
       "    </tr>\n",
       "    <tr>\n",
       "      <th>...</th>\n",
       "      <td>...</td>\n",
       "      <td>...</td>\n",
       "      <td>...</td>\n",
       "      <td>...</td>\n",
       "      <td>...</td>\n",
       "      <td>...</td>\n",
       "      <td>...</td>\n",
       "      <td>...</td>\n",
       "      <td>...</td>\n",
       "      <td>...</td>\n",
       "      <td>...</td>\n",
       "      <td>...</td>\n",
       "      <td>...</td>\n",
       "      <td>...</td>\n",
       "      <td>...</td>\n",
       "      <td>...</td>\n",
       "      <td>...</td>\n",
       "      <td>...</td>\n",
       "      <td>...</td>\n",
       "    </tr>\n",
       "    <tr>\n",
       "      <th>276</th>\n",
       "      <td>3</td>\n",
       "      <td>0.16980</td>\n",
       "      <td>0.0921</td>\n",
       "      <td>-0.500663</td>\n",
       "      <td>0.29290</td>\n",
       "      <td>0.044317</td>\n",
       "      <td>-0.223239</td>\n",
       "      <td>0.02360</td>\n",
       "      <td>0.03150</td>\n",
       "      <td>0.05650</td>\n",
       "      <td>0.04370</td>\n",
       "      <td>0.09940</td>\n",
       "      <td>0.22060</td>\n",
       "      <td>0.2719</td>\n",
       "      <td>0.26740</td>\n",
       "      <td>0.30430</td>\n",
       "      <td>0.4470</td>\n",
       "      <td>-0.166667</td>\n",
       "      <td>0.719061</td>\n",
       "    </tr>\n",
       "    <tr>\n",
       "      <th>277</th>\n",
       "      <td>3</td>\n",
       "      <td>0.15010</td>\n",
       "      <td>0.0837</td>\n",
       "      <td>-0.455868</td>\n",
       "      <td>0.28130</td>\n",
       "      <td>0.088565</td>\n",
       "      <td>-0.272242</td>\n",
       "      <td>0.03090</td>\n",
       "      <td>0.03520</td>\n",
       "      <td>0.05610</td>\n",
       "      <td>0.03870</td>\n",
       "      <td>0.08750</td>\n",
       "      <td>0.20430</td>\n",
       "      <td>0.2533</td>\n",
       "      <td>0.26240</td>\n",
       "      <td>0.27900</td>\n",
       "      <td>0.4475</td>\n",
       "      <td>-0.223684</td>\n",
       "      <td>0.742943</td>\n",
       "    </tr>\n",
       "    <tr>\n",
       "      <th>278</th>\n",
       "      <td>3</td>\n",
       "      <td>0.26715</td>\n",
       "      <td>0.1553</td>\n",
       "      <td>-0.492458</td>\n",
       "      <td>0.36175</td>\n",
       "      <td>0.063477</td>\n",
       "      <td>-0.127531</td>\n",
       "      <td>0.04420</td>\n",
       "      <td>0.05915</td>\n",
       "      <td>0.09085</td>\n",
       "      <td>0.07425</td>\n",
       "      <td>0.13955</td>\n",
       "      <td>0.29195</td>\n",
       "      <td>0.3335</td>\n",
       "      <td>0.34525</td>\n",
       "      <td>0.37630</td>\n",
       "      <td>0.4340</td>\n",
       "      <td>-0.084473</td>\n",
       "      <td>0.646007</td>\n",
       "    </tr>\n",
       "    <tr>\n",
       "      <th>279</th>\n",
       "      <td>3</td>\n",
       "      <td>0.25060</td>\n",
       "      <td>0.1298</td>\n",
       "      <td>-0.463785</td>\n",
       "      <td>0.40495</td>\n",
       "      <td>0.044308</td>\n",
       "      <td>-0.201466</td>\n",
       "      <td>0.04655</td>\n",
       "      <td>0.05160</td>\n",
       "      <td>0.09180</td>\n",
       "      <td>0.06285</td>\n",
       "      <td>0.13650</td>\n",
       "      <td>0.33020</td>\n",
       "      <td>0.3777</td>\n",
       "      <td>0.37705</td>\n",
       "      <td>0.40570</td>\n",
       "      <td>0.4335</td>\n",
       "      <td>-0.155235</td>\n",
       "      <td>0.714253</td>\n",
       "    </tr>\n",
       "    <tr>\n",
       "      <th>280</th>\n",
       "      <td>3</td>\n",
       "      <td>0.24920</td>\n",
       "      <td>0.1269</td>\n",
       "      <td>-0.475429</td>\n",
       "      <td>0.45310</td>\n",
       "      <td>0.031748</td>\n",
       "      <td>-0.269637</td>\n",
       "      <td>0.04600</td>\n",
       "      <td>0.04870</td>\n",
       "      <td>0.08860</td>\n",
       "      <td>0.05600</td>\n",
       "      <td>0.13570</td>\n",
       "      <td>0.35340</td>\n",
       "      <td>0.4204</td>\n",
       "      <td>0.43320</td>\n",
       "      <td>0.44110</td>\n",
       "      <td>0.4320</td>\n",
       "      <td>-0.224495</td>\n",
       "      <td>0.771055</td>\n",
       "    </tr>\n",
       "  </tbody>\n",
       "</table>\n",
       "<p>281 rows × 19 columns</p>\n",
       "</div>"
      ],
      "text/plain": [
       "     landcover      B11     B12     mndwi      B8A     slope      ndbi  \\\n",
       "0            0  0.52190  0.5526 -0.214992  0.35390  0.069484  0.207962   \n",
       "1            0  0.45660  0.4882 -0.239414  0.29940  0.061811  0.216303   \n",
       "2            0  0.60670  0.6272 -0.178173  0.39400  0.070621  0.181845   \n",
       "3            0  0.28530  0.2702 -0.256551  0.25630  0.100087  0.103035   \n",
       "4            0  0.56640  0.6127 -0.164354  0.38765  0.112289  0.147720   \n",
       "..         ...      ...     ...       ...      ...       ...       ...   \n",
       "276          3  0.16980  0.0921 -0.500663  0.29290  0.044317 -0.223239   \n",
       "277          3  0.15010  0.0837 -0.455868  0.28130  0.088565 -0.272242   \n",
       "278          3  0.26715  0.1553 -0.492458  0.36175  0.063477 -0.127531   \n",
       "279          3  0.25060  0.1298 -0.463785  0.40495  0.044308 -0.201466   \n",
       "280          3  0.24920  0.1269 -0.475429  0.45310  0.031748 -0.269637   \n",
       "\n",
       "          B1       B2       B3       B4       B5       B6      B7       B8  \\\n",
       "0    0.18740  0.30500  0.33720  0.36640  0.39210  0.37980  0.3701  0.34220   \n",
       "1    0.19790  0.23380  0.28020  0.30740  0.31810  0.31330  0.3068  0.29420   \n",
       "2    0.25670  0.36500  0.42320  0.43750  0.41290  0.40430  0.4097  0.42000   \n",
       "3    0.10080  0.12720  0.16880  0.20560  0.23270  0.24310  0.2455  0.23200   \n",
       "4    0.17970  0.35180  0.40650  0.43660  0.40780  0.40960  0.3967  0.42060   \n",
       "..       ...      ...      ...      ...      ...      ...     ...      ...   \n",
       "276  0.02360  0.03150  0.05650  0.04370  0.09940  0.22060  0.2719  0.26740   \n",
       "277  0.03090  0.03520  0.05610  0.03870  0.08750  0.20430  0.2533  0.26240   \n",
       "278  0.04420  0.05915  0.09085  0.07425  0.13955  0.29195  0.3335  0.34525   \n",
       "279  0.04655  0.05160  0.09180  0.06285  0.13650  0.33020  0.3777  0.37705   \n",
       "280  0.04600  0.04870  0.08860  0.05600  0.13570  0.35340  0.4204  0.43320   \n",
       "\n",
       "          B9    elev       bsi      ndvi  \n",
       "0    0.32500  0.4570  0.157017 -0.034152  \n",
       "1    0.33770  0.4560  0.182663 -0.021941  \n",
       "2    0.38210  0.4595  0.141701 -0.020408  \n",
       "3    0.25940  0.4495  0.154923  0.060329  \n",
       "4    0.32425  0.4500  0.129886 -0.018665  \n",
       "..       ...     ...       ...       ...  \n",
       "276  0.30430  0.4470 -0.166667  0.719061  \n",
       "277  0.27900  0.4475 -0.223684  0.742943  \n",
       "278  0.37630  0.4340 -0.084473  0.646007  \n",
       "279  0.40570  0.4335 -0.155235  0.714253  \n",
       "280  0.44110  0.4320 -0.224495  0.771055  \n",
       "\n",
       "[281 rows x 19 columns]"
      ]
     },
     "execution_count": 103,
     "metadata": {},
     "output_type": "execute_result"
    }
   ],
   "source": [
    "traindf"
   ]
  },
  {
   "cell_type": "code",
   "execution_count": 110,
   "id": "5712faf1-76ca-488c-8fc2-2dc2dfd53d65",
   "metadata": {},
   "outputs": [
    {
     "name": "stdout",
     "output_type": "stream",
     "text": [
      "Fitting 5 folds for each of 15 candidates, totalling 75 fits\n",
      "{'n_estimators': 80}\n"
     ]
    }
   ],
   "source": [
    "from sklearn.model_selection import GridSearchCV\n",
    "from sklearn.metrics import make_scorer\n",
    "\n",
    "# Define the hyperparameters space\n",
    "param_grid = {\n",
    "    'n_estimators': list(range(10, 160, 10))\n",
    "}\n",
    "\n",
    "# Randomized Search for hyperparameter tuning\n",
    "rf = RandomForestClassifier()\n",
    "grid_search = GridSearchCV(rf, param_grid=param_grid, scoring= 'accuracy', verbose = 1, n_jobs = -1)\n",
    "grid_search.fit(traindf.drop('landcover', axis=1), traindf[['landcover']])\n",
    "print(grid_search.best_params_)"
   ]
  },
  {
   "cell_type": "code",
   "execution_count": 117,
   "id": "b6ebbe75-b40d-44ea-8b45-458f66f62a19",
   "metadata": {
    "tags": []
   },
   "outputs": [
    {
     "name": "stdout",
     "output_type": "stream",
     "text": [
      "              precision    recall  f1-score   support\n",
      "\n",
      "       Urban       0.88      0.90      0.89        39\n",
      "        Bare       0.90      0.88      0.89        40\n",
      "       Water       0.97      0.90      0.94        40\n",
      "  Vegetation       0.91      0.98      0.94        42\n",
      "\n",
      "    accuracy                           0.91       161\n",
      "   macro avg       0.91      0.91      0.91       161\n",
      "weighted avg       0.91      0.91      0.91       161\n",
      "\n"
     ]
    },
    {
     "data": {
      "image/png": "[encoded data removed]",
      "text/plain": [
       "<Figure size 504x360 with 2 Axes>"
      ]
     },
     "metadata": {
      "needs_background": "light"
     },
     "output_type": "display_data"
    }
   ],
   "source": [
    "# Train a classifier.\n",
    "classifier = RandomForestClassifier(random_state = 42, **grid_search.best_params_).fit(\n",
    "    X = traindf.drop('landcover', axis=1), y = traindf[['landcover']])\n",
    "\n",
    "y_test_hat = classifier.predict(testdf.drop(['landcover'],axis=1))\n",
    "\n",
    "target_names = ['Urban', 'Bare', 'Water', 'Vegetation']\n",
    "print(classification_report(testdf['landcover'], y_test_hat, target_names=target_names))\n",
    "\n",
    "# Calculate confusion matrix\n",
    "cm = confusion_matrix(testdf['landcover'], y_test_hat, normalize=\"true\")\n",
    "\n",
    "# Plot confusion matrix\n",
    "plt.figure(figsize=(7,5))\n",
    "sns.heatmap(cm, annot=True, xticklabels= target_names, yticklabels= target_names)\n",
    "plt.xlabel('Predicted')\n",
    "plt.ylabel('True')\n",
    "plt.show()"
   ]
  },
  {
   "cell_type": "code",
   "execution_count": 111,
   "id": "3fa1c903-e047-48d4-ad34-f28d5c2e1f84",
   "metadata": {},
   "outputs": [],
   "source": [
    "# Get the results of the randomized search\n",
    "results = grid_search.cv_results_\n",
    "\n",
    "# Extract n_estimators and corresponding mean test scores\n",
    "n_estimators = results['param_n_estimators'].data\n",
    "mean_test_scores = results['mean_test_score']"
   ]
  },
  {
   "cell_type": "code",
   "execution_count": 113,
   "id": "88ace978-7978-4d8a-b257-ff59e2a0323c",
   "metadata": {},
   "outputs": [
    {
     "data": {
      "image/png": "[encoded data removed]",
      "text/plain": [
       "<Figure size 432x288 with 1 Axes>"
      ]
     },
     "metadata": {
      "needs_background": "light"
     },
     "output_type": "display_data"
    }
   ],
   "source": [
    "fig, ax = plt.subplots()\n",
    "ax.plot(n_estimators, mean_test_scores)\n",
    "ax.set_xlabel(\"Number of trees\")\n",
    "ax.set_ylabel(\"Accuracy\")\n",
    "plt.show()"
   ]
  },
  {
   "cell_type": "markdown",
   "id": "064932ab-06f9-47f8-a46f-342d4bb758b5",
   "metadata": {},
   "source": [
    "## 05. Upload image classification results to GEE\n",
    "When working with complex classifiers over large regions, you may get a User memory limit exceeded or Computation timed out error in the Code Editor. The reason for this is that there is a fixed time limit and smaller memory allocated for code that is run with the On-Demand Computation mode.\n",
    "\n",
    "For larger computations, you can use the Batch mode with the built-in GEE Export functions. Exports run in the background and can run longer than the 5-minute time allocated to the computation code run from the Code Editor. This allows you to process very large and complex datasets.\n",
    "\n",
    "In addition, you may want to download the composite image locally or the classified image to use in a figure for publication. Here’s an example showing how to export your composite and classification results to your disk (in this case, Google Drive)."
   ]
  },
  {
   "cell_type": "code",
   "execution_count": null,
   "id": "ccf50af4-bebc-40c1-bf1d-cc84b97b4c4a",
   "metadata": {
    "tags": []
   },
   "outputs": [
    {
     "name": "stdout",
     "output_type": "stream",
     "text": [
      "Overall accuracy: 0.9316770186335404\n",
      "Generating URL ...\n",
      "An error occurred while downloading.\n",
      "Total request size (60598800 bytes) must be less than or equal to 50331648 bytes.\n"
     ]
    },
    {
     "data": {
      "application/vnd.jupyter.widget-view+json": {
       "model_id": "681b215319ea45f3bc36cf19634be4db",
       "version_major": 2,
       "version_minor": 0
      },
      "text/plain": [
       "classified.tif: |                                                     | 0.00/48.5M (raw) [  0.0%] in 00:00 (et…"
      ]
     },
     "metadata": {},
     "output_type": "display_data"
    },
    {
     "name": "stderr",
     "output_type": "stream",
     "text": [
      "There is no STAC entry for: None\n"
     ]
    }
   ],
   "source": [
    "print('Overall accuracy:', testConfusionMatrix.accuracy().getInfo())\n",
    "\n",
    "# Download composite image\n",
    "geemap.download_ee_image(composite, \"composite.tif\", scale=100)\n",
    "\n",
    "# Download classified image\n",
    "geemap.download_ee_image(classified, \"classified.tif\", scale=100)"
   ]
  },
  {
   "cell_type": "markdown",
   "id": "060e0dd4-db2a-4b94-a9c1-5a0168ef305d",
   "metadata": {},
   "source": [
    "## 06. Calculating Area\n",
    "Now that we have the results of our classification, we will learn how to calculate the area for pixels in each class. Calculating area for features is done using the area() function and for images using the ee.Image.pixelArea() function. The ee.Image.pixelArea() function creates an image where each pixel’s value is the area of the pixel.\n",
    "\n",
    "We multiply this pixel area image with our image and sum up the area using the reduceRegion() function."
   ]
  },
  {
   "cell_type": "code",
   "execution_count": 24,
   "id": "8de9b0cb-fc5f-46e6-900d-b5ae7c7270c0",
   "metadata": {},
   "outputs": [],
   "source": [
    "classified = ee.Image(\"users/ujavalgandhi/e2e/bangalore_classified\")\n",
    "bangalore = ee.FeatureCollection(\"users/ujavalgandhi/public/bangalore_boundary\")\n",
    "admin2 = ee.FeatureCollection(\"FAO/GAUL_SIMPLIFIED_500m/2015/level2\")\n",
    "\n",
    "Map.addLayer(bangalore, {\"color\": \"blue\"}, \"Bangalore City\")\n",
    "Map.addLayer(classified,\n",
    "  {\"min\": 0, \"max\": 3, \"palette\": [\"gray\", \"brown\", \"blue\", \"green\"]},\n",
    "  \"Classified Image 2019\")"
   ]
  },
  {
   "cell_type": "code",
   "execution_count": 26,
   "id": "4e0fd78a-e6da-47bb-9e14-97097ed04000",
   "metadata": {},
   "outputs": [
    {
     "name": "stdout",
     "output_type": "stream",
     "text": [
      "The area of Bangalore (sqkm): 713\n"
     ]
    }
   ],
   "source": [
    "# .area() function calculates the area in square meters\n",
    "cityArea = bangalore.geometry().area()\n",
    "\n",
    "# We can cast the result to a `ee.Number()` and calculate the\n",
    "# area in square kilometers\n",
    "cityAreaSqKm = ee.Number(cityArea).divide(1e6).round()\n",
    "print('The area of Bangalore (sqkm):', cityAreaSqKm.getInfo())"
   ]
  },
  {
   "cell_type": "code",
   "execution_count": 31,
   "id": "345c76b5-391b-430f-b0f1-fecaeb06ed48",
   "metadata": {},
   "outputs": [
    {
     "name": "stdout",
     "output_type": "stream",
     "text": [
      "The area of vegetation in Bangolore (sqkm): 122\n",
      "The percentage of  Bangolore covered by vegetation (%): 17\n"
     ]
    }
   ],
   "source": [
    "# Area Calculation for Images\n",
    "vegetation = classified.eq(3)\n",
    "# If the image contains values 0 or 1, we can calculate the\n",
    "# total area using reduceRegion() function\n",
    "\n",
    "# The result of .eq() operation is a binary image with pixels\n",
    "# values of 1 where the condition matched and 0 where it didn't\n",
    "Map.addLayer(vegetation, {\"min\": 0, \"max\": 1, palette: ['white', 'green']}, 'Green Cover')\n",
    "\n",
    "# Since our image has only 0 and 1 pixel values, the vegetation\n",
    "# pixels will have values equal to their area\n",
    "areaImage = vegetation.multiply(ee.Image.pixelArea())\n",
    "\n",
    "# Now that each pixel for vegetation class in the image has the value\n",
    "# equal to its area, we can sum up all the values in the region\n",
    "# to get the total green cover.\n",
    "area = areaImage.reduceRegion(**{\n",
    "    \"reducer\": ee.Reducer.sum(),\n",
    "    \"geometry\": bangalore.geometry(),\n",
    "    \"scale\": 10,\n",
    "    \"maxPixels\": 1e10\n",
    "})\n",
    "\n",
    "# The result of the reduceRegion() function is a dictionary with the key\n",
    "# being the band name. We can extract the area number and convert it to\n",
    "# square kilometers\n",
    "vegetationAreaSqKm = ee.Number(area.get('classification')).divide(1e6).round()\n",
    "print('The area of vegetation in Bangolore (sqkm):', vegetationAreaSqKm.getInfo())\n",
    "\n",
    "# Compute and print the percentage green cover of the city.\n",
    "vegetationPercent = ee.Number(area.get('classification')).divide(1e6).divide(cityAreaSqKm).multiply(100).round()\n",
    "print('The percentage of  Bangolore covered by vegetation (%):', vegetationPercent.getInfo())"
   ]
  },
  {
   "cell_type": "markdown",
   "id": "5fa0a8de-d3c8-40d1-8be3-36c862c53863",
   "metadata": {},
   "source": [
    "### What are the benefits and drawbacks of this workflow?\n",
    "\n",
    "#### Benefits \n",
    "- Easy to get started\n",
    "- Rapid iteration\n",
    "\n",
    "#### Drawbacks\n",
    "- Flexibility\n",
    "- Slow adoption of new techniques (it needs to be scalable)- there is an increasing collaboration between the community and the core GEE dev group. For example, More recent tabular models (XGBoost, LightGBM, NGBoost), Explainable AI and Deep learning.\n",
    "- GEE API – free for research and NGOs only, does not natively support R\n",
    "\n",
    "### What I (and other researchers) prefer to do in practice?\n",
    "Try to maximise the benefits of GEE (compute and access to large amount and variety of data) for prototyping, baselines, rapid iteration and once these benefits are exhausted it makes sense to extract data and work with the data on your local machine or a cloud hosted R or Python environment.\n",
    "\n",
    "In Part 2 (time permitting), we will replicate the basic land cover classification examples using such a workflow, where we extract the data and build a local model."
   ]
  },
  {
   "cell_type": "markdown",
   "id": "12e62ae5-6e31-4d7a-8cf1-380857b24d3f",
   "metadata": {},
   "source": [
    "### Additional resources\n",
    "\n",
    "- [Google Earth Engine book - Freely available](https://link.springer.com/book/10.1007/978-3-031-26588-4)\n",
    "- [Qiusheng Wu's awesome GEE repo](https://gee-community-catalog.org/)"
   ]
  },
  {
   "cell_type": "markdown",
   "id": "4c036b67-c03d-44b0-a8c2-f64ee3c7bd99",
   "metadata": {},
   "source": [
    "### Acknowledgements\n",
    "\n",
    "- This tutorial relies heavily on the python ported version ([Found here](https://nbviewer.org/github/Akramz/end-to-end-gee/blob/main/4_Supervised_Classification_and_Change_Detection.ipynb)) of the supervised classification tutorial released by Ujaval \n",
    " Gandhi in his publicly available end-end Gooogle Earth Engine Javascript course ([Found here](https://courses.spatialthoughts.com/end-to-end-gee.html)).\n",
    "\n",
    "- I would like to thank Stellenbosch university for supporting the development of this material. "
   ]
  }
 ],
 "metadata": {
  "kernelspec": {
   "display_name": "erthy",
   "language": "python",
   "name": "erthy"
  },
  "language_info": {
   "codemirror_mode": {
    "name": "ipython",
    "version": 3
   },
   "file_extension": ".py",
   "mimetype": "text/x-python",
   "name": "python",
   "nbconvert_exporter": "python",
   "pygments_lexer": "ipython3",
   "version": "3.9.13"
  },
  "toc-autonumbering": false,
  "toc-showcode": false,
  "toc-showmarkdowntxt": false
 },
 "nbformat": 4,
 "nbformat_minor": 5
}
